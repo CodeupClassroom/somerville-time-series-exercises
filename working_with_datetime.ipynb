{
 "cells": [
  {
   "cell_type": "code",
   "execution_count": 1,
   "id": "36987c76",
   "metadata": {},
   "outputs": [
    {
     "data": {
      "application/javascript": [
       "IPython.notebook.set_autosave_interval(0)"
      ]
     },
     "metadata": {},
     "output_type": "display_data"
    },
    {
     "name": "stdout",
     "output_type": "stream",
     "text": [
      "Autosave disabled\n"
     ]
    }
   ],
   "source": [
    "%autosave 0"
   ]
  },
  {
   "cell_type": "markdown",
   "id": "88b38e13",
   "metadata": {},
   "source": [
    "The shortest imports cell I've ever written."
   ]
  },
  {
   "cell_type": "code",
   "execution_count": 2,
   "id": "b94ef23a",
   "metadata": {},
   "outputs": [],
   "source": [
    "import pandas as pd"
   ]
  },
  {
   "cell_type": "markdown",
   "id": "353f9338",
   "metadata": {},
   "source": [
    "Let's convert a basic date to a datetime object using pandas. Documentation for the symbols can be found [here](https://docs.python.org/3/library/datetime.html#strftime-and-strptime-behavior)."
   ]
  },
  {
   "cell_type": "code",
   "execution_count": 5,
   "id": "7c91c730",
   "metadata": {},
   "outputs": [
    {
     "data": {
      "text/plain": [
       "Timestamp('1970-01-01 00:00:00')"
      ]
     },
     "execution_count": 5,
     "metadata": {},
     "output_type": "execute_result"
    }
   ],
   "source": [
    "pd.to_datetime('January 1st, 1970')"
   ]
  },
  {
   "cell_type": "markdown",
   "id": "a4960b38",
   "metadata": {},
   "source": [
    "Let's read in the data for the lesson."
   ]
  },
  {
   "cell_type": "code",
   "execution_count": 3,
   "id": "da2abfcd",
   "metadata": {},
   "outputs": [
    {
     "name": "stdout",
     "output_type": "stream",
     "text": [
      "date                   object\n",
      "coffee_consumption    float64\n",
      "dtype: object\n"
     ]
    },
    {
     "data": {
      "text/html": [
       "<div>\n",
       "<style scoped>\n",
       "    .dataframe tbody tr th:only-of-type {\n",
       "        vertical-align: middle;\n",
       "    }\n",
       "\n",
       "    .dataframe tbody tr th {\n",
       "        vertical-align: top;\n",
       "    }\n",
       "\n",
       "    .dataframe thead th {\n",
       "        text-align: right;\n",
       "    }\n",
       "</style>\n",
       "<table border=\"1\" class=\"dataframe\">\n",
       "  <thead>\n",
       "    <tr style=\"text-align: right;\">\n",
       "      <th></th>\n",
       "      <th>date</th>\n",
       "      <th>coffee_consumption</th>\n",
       "    </tr>\n",
       "  </thead>\n",
       "  <tbody>\n",
       "    <tr>\n",
       "      <th>0</th>\n",
       "      <td>2019-01-01</td>\n",
       "      <td>14.301915</td>\n",
       "    </tr>\n",
       "    <tr>\n",
       "      <th>1</th>\n",
       "      <td>2019-01-02</td>\n",
       "      <td>12.905900</td>\n",
       "    </tr>\n",
       "    <tr>\n",
       "      <th>2</th>\n",
       "      <td>2019-01-03</td>\n",
       "      <td>10.046015</td>\n",
       "    </tr>\n",
       "    <tr>\n",
       "      <th>3</th>\n",
       "      <td>2019-01-04</td>\n",
       "      <td>6.354805</td>\n",
       "    </tr>\n",
       "    <tr>\n",
       "      <th>4</th>\n",
       "      <td>2019-01-07</td>\n",
       "      <td>8.545563</td>\n",
       "    </tr>\n",
       "  </tbody>\n",
       "</table>\n",
       "</div>"
      ],
      "text/plain": [
       "         date  coffee_consumption\n",
       "0  2019-01-01           14.301915\n",
       "1  2019-01-02           12.905900\n",
       "2  2019-01-03           10.046015\n",
       "3  2019-01-04            6.354805\n",
       "4  2019-01-07            8.545563"
      ]
     },
     "execution_count": 3,
     "metadata": {},
     "output_type": "execute_result"
    }
   ],
   "source": [
    "url = \"https://gist.githubusercontent.com/ryanorsinger/b309f8db19e0ca71b213d4877d835e77/raw/f5841017310e2f4ca070b313529ceec2375336ba/coffee_consumption.csv\"\n",
    "df = pd.read_csv(url)\n",
    "print(df.dtypes)\n",
    "df.head()"
   ]
  },
  {
   "cell_type": "markdown",
   "id": "3d9b782d",
   "metadata": {},
   "source": [
    "Our date column is currently an object. We need to convert it to datetime! Thankfully, with pandas vectorized operations, we can convert an entire column to datetime at once."
   ]
  },
  {
   "cell_type": "code",
   "execution_count": 6,
   "id": "0de345d9",
   "metadata": {},
   "outputs": [
    {
     "data": {
      "text/plain": [
       "0     2019-01-01\n",
       "1     2019-01-02\n",
       "2     2019-01-03\n",
       "3     2019-01-04\n",
       "4     2019-01-07\n",
       "         ...    \n",
       "256   2019-12-25\n",
       "257   2019-12-26\n",
       "258   2019-12-27\n",
       "259   2019-12-30\n",
       "260   2019-12-31\n",
       "Name: date, Length: 261, dtype: datetime64[ns]"
      ]
     },
     "execution_count": 6,
     "metadata": {},
     "output_type": "execute_result"
    }
   ],
   "source": []
  },
  {
   "cell_type": "markdown",
   "id": "a23639c7",
   "metadata": {},
   "source": [
    "Let's access some attributes of our datetime objects."
   ]
  },
  {
   "cell_type": "code",
   "execution_count": null,
   "id": "f10e644f",
   "metadata": {},
   "outputs": [],
   "source": []
  },
  {
   "cell_type": "markdown",
   "id": "bf49a142",
   "metadata": {},
   "source": [
    "It's very important to set the datetime object as the index and sort it. The dates farthest in the past will be at the top of the dataframe, and the most recent dates will be at the bottom (ascending = True)."
   ]
  },
  {
   "cell_type": "code",
   "execution_count": null,
   "id": "ab840675",
   "metadata": {},
   "outputs": [],
   "source": []
  },
  {
   "cell_type": "markdown",
   "id": "0a5f2aff",
   "metadata": {},
   "source": [
    "We can change the period of our data. We can:\n",
    "- Upsample: increase the number of data points by decreasing the time between points\n",
    "- Downsample: decrease the number of data points by increasing the time between points\n",
    "\n",
    "We will use the .asfreq() method to achieve this. Note that this technique may introduce null values into the dataset!"
   ]
  },
  {
   "cell_type": "code",
   "execution_count": null,
   "id": "f5e6ce79",
   "metadata": {},
   "outputs": [],
   "source": []
  },
  {
   "cell_type": "markdown",
   "id": "c4766390",
   "metadata": {},
   "source": [
    "We can fill those missing values with a fixed value, a forward fill, or a back fill. Let's see what happens."
   ]
  },
  {
   "cell_type": "code",
   "execution_count": null,
   "id": "a94e0eb4",
   "metadata": {},
   "outputs": [],
   "source": []
  },
  {
   "cell_type": "markdown",
   "id": "431ff0d9",
   "metadata": {},
   "source": [
    "We can also change the period of our data using the .resample() method. This method requires an aggregate operation, much like a groupby!"
   ]
  },
  {
   "cell_type": "code",
   "execution_count": null,
   "id": "db74145d",
   "metadata": {},
   "outputs": [],
   "source": []
  },
  {
   "cell_type": "markdown",
   "id": "5923de32",
   "metadata": {},
   "source": [
    "We can use the .rolling() method to calculate some aggregate metric over the last \"i\" data points."
   ]
  },
  {
   "cell_type": "code",
   "execution_count": null,
   "id": "2d0e5aaa",
   "metadata": {},
   "outputs": [],
   "source": []
  }
 ],
 "metadata": {
  "kernelspec": {
   "display_name": "Python 3 (ipykernel)",
   "language": "python",
   "name": "python3"
  },
  "language_info": {
   "codemirror_mode": {
    "name": "ipython",
    "version": 3
   },
   "file_extension": ".py",
   "mimetype": "text/x-python",
   "name": "python",
   "nbconvert_exporter": "python",
   "pygments_lexer": "ipython3",
   "version": "3.9.17"
  }
 },
 "nbformat": 4,
 "nbformat_minor": 5
}
